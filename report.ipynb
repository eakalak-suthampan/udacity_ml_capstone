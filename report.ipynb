{
 "cells": [
  {
   "cell_type": "markdown",
   "metadata": {},
   "source": [
    "# Machine Learning Engineer Nanodegree\n",
    "## Capstone Project\n",
    "By Eakalak Suthampan  \n",
    "December 12th, 2017\n",
    "\n",
    "# WSDM - KKBox's Churn Prediction Challenge\n",
    "Can you predict when subscribers will churn?\n",
    "\n",
    "# Definition\n",
    "\n",
    "## Project Overview\n",
    "\n",
    "Customer churn prediction is essential for businesses. Early prediction of customers churn can help businesses to propose marketing campaign to prevent their customers from canceling their subscription, product or service. There are two broad approaches for churn analysis. Machine learning which we will focus and [survival analysis](https://en.wikipedia.org/wiki/Survival_analysis). Machine learning methods, specifically classification, are widely used due to their high performance and ability to handle complex relationships in data. On the other hand, survival analyses can provide value by answering a different set of questions. Quantities, such as survival and hazard functions, can be used to forecast which customers will churn in a particular time period.\n",
    "\n",
    "This capstone will take the problem from the Kaggle competition [\"WSDM - KKBox's Churn Prediction Challenge\"](https://www.kaggle.com/c/kkbox-churn-prediction-challenge). The KKBOX is Asia’s leading music streaming service and would like to build an algorithm that predicts whether a user will churn after their subscription expires. Currently, the company uses survival analysis techniques to determine the residual membership life time for each subscriber. By adopting different methods, KKBOX anticipates they’ll discover new insights to why users leave so they can be proactive in keeping users dancing.\n",
    "\n",
    "Some interesting practical works about churn prediction. [Analyzing Customer Churn – Basic Survival Analysis](http://daynebatten.com/2015/02/customer-churn-survival-analysis/) demonstrates to use R Code to plot survival curve which shows relationship between days since subscribing and percent surviving. [Analyzing Customer Churn by using Azure Machine Learning](https://docs.microsoft.com/en-us/azure/machine-learning/studio/azure-ml-customer-churn-scenario) shows machine learning approach using Azure for customer churn prediction. It used ensemble of many classifiers such as Logistic Regression, Boosted Tree, Averaged Perceptron, SVM to predict customer churn.\n",
    "\n",
    "\n",
    "## Problem Statement\n",
    "The objective for the Kaggle competition [\"WSDM - KKBox's Churn Prediction Challenge\"](https://www.kaggle.com/c/kkbox-churn-prediction-challenge) is predicting whether a user will churn after their subscription expires. **The criteria of \"churn\" is no new valid service subscription within 30 days after the current membership expires.** I will build binary classification model to predict whether a user will 'churn' or 'not churn' after their subscription expires.\n",
    "\n",
    "## Metrics\n",
    "Since we would like to identify customer churn as much as possible (high [recall](https://machinelearningmastery.com/classification-accuracy-is-not-enough-more-performance-measures-you-can-use/)) while still getting acceptable [precision](https://machinelearningmastery.com/classification-accuracy-is-not-enough-more-performance-measures-you-can-use/). Therefore, I will use [f1_score](https://machinelearningmastery.com/classification-accuracy-is-not-enough-more-performance-measures-you-can-use/) as evaluation metric since the f1_score conveys the balance between the recall and the precision.\n",
    "\n",
    "$$ F1 = 2 \\cdot \\frac{precision \\cdot recall}{precision + recall} $$\n",
    "\n",
    "$$ precision = \\frac{tp}{tp + fp} $$\n",
    "\n",
    "$$ recall = \\frac{tp}{tp + fn} $$\n",
    "\n",
    "By the way, the competition use [binary logloss](https://www.kaggle.com/c/kkbox-churn-prediction-challenge#evaluation) as evaluation metric. logloss is more precise to measure classification performance because it is based on prediction in probabilities. I think logloss is more appropriate when using in the competition but I would like to use f1_score because I think it is more intuitive to explain to business in term of recall, precision. The binary logloss equation is\n",
    "\n",
    "$$ log loss = -\\frac{1}{N}\\sum_{i=1}^N {(y_i\\log(p_i) + (1 - y_i)\\log(1 - p_i))} $$\n",
    "\n",
    "where $N$ is the number of observations, $log$ is the natural logarithm, $y_{i}$ is the binary target, and $p_{i}$ is the predicted probability that $y_{i}$ equals 1.\n",
    "\n",
    "# Analysis\n",
    "\n",
    "## Data Exploration\n",
    "\n",
    "### Datasets\n",
    "There are datasets as follows. \n",
    "\n",
    "1. train.csv (44.5 MB, 992931 rows) is the train set. The train data consists of users whose subscription expires within the month of February 2017. \n",
    "    - msno: user id\n",
    "    - is_churn: This is the target variable. Churn is defined as whether the user did not continue the subscription within 30 days of expiration. is_churn = 1 means churn,is_churn = 0 means renewal.\n",
    "1. sample_submission_zero.csv (43.5 MB, 970960 rows) is the test set. The test data is with users whose subscription expires within the month of March 2017. \n",
    "    - msno: user id\n",
    "    - is_churn: This is what you will predict. Churn is defined as whether the user did not continue the subscription within 30 days of expiration. is_churn = 1 means churn,is_churn = 0 means renewal.\n",
    "1. transactions.csv (1.61 GB, 21547746 rows) is transactions of users up until 2/28/2017.   \n",
    "    - msno: user id\n",
    "    - payment_method_id: payment method\n",
    "    - payment_plan_days: length of membership plan in days\n",
    "    - plan_list_price: in New Taiwan Dollar (NTD)\n",
    "    - actual_amount_paid: in New Taiwan Dollar (NTD)\n",
    "    - is_auto_renew\n",
    "    - transaction_date: format %Y%m%d\n",
    "    - membership_expire_date: format %Y%m%d\n",
    "    - is_cancel: whether or not the user canceled the membership in this transaction.\n",
    "1. user_logs.csv (28.4 GB, 392106543 rows) describing listening behaviors of a user. Data collected until 2/28/2017. \n",
    "    - msno: user id\n",
    "    - date: format %Y%m%d\n",
    "    - num_25: # of songs played less than 25% of the song length\n",
    "    - num_50: # of songs played between 25% to 50% of the song length\n",
    "    - num_75: # of songs played between 50% to 75% of of the song length\n",
    "    - num_985: # of songs played between 75% to 98.5% of the song length\n",
    "    - num_100: # of songs played over 98.5% of the song length\n",
    "    - num_unq: # of unique songs played\n",
    "    - total_secs: total seconds played\n",
    "1. members.csv (352 MB, 5116194 rows) consist of user information. Note that not every user in the dataset is available. \n",
    "    - msno\n",
    "    - city\n",
    "    - bd: age. Note: this column has outlier values ranging from -7000 to 2015, please use your judgement.\n",
    "    - gender: this column has NULL values\n",
    "    - registered_via: registration method\n",
    "    - registration_init_time: format %Y%m%d\n",
    "    - expiration_date: format %Y%m%d, taken as a snapshot at which the member.csv is extracted. Not representing the actual churn behavior.\n",
    "\n",
    "There are additional datasets that were added later because the version 1 testing dataset (sample_submission_zero.csv) were leaked. So Kaggle provided the new version 2 test dataset and more training sets as folows.\n",
    "\n",
    "6. sample_submission_v2.csv (40.6 MB) is the new test dataset for April, 2017. (replaced sample_submission_zero.csv)\n",
    "7. train_v2.csv (43.5 MB) contains additional churn data for March, 2017.\n",
    "8. transactions_v2.csv (110 MB) contains additional transactions data until 3/31/2017.\n",
    "9. user_logs_v2.csv (1.33 GB) contains additional user logs data until 3/31/2017.\n",
    "10. members_v3.csv (408 MB) is the new member dataset. (replaced members.csv)\n",
    "\n",
    "for more information about the datasets please see at the Kaggle competition [\"WSDM - KKBox's Churn Prediction Challenge\"](https://www.kaggle.com/c/kkbox-churn-prediction-challenge).\n",
    "\n",
    "### Feature Engineering\n",
    "\n",
    "I managed to create the following new features from transactions.csv.\n",
    "\n",
    "- last transaction for each user: I guess that features such as payment_method_id, payment_plan_days, is_auto_renew, membership_expire_date, is_cancel may effect the churn.\n",
    "- subscribe duration: If users have been subscribed for a long time, they should have less chance to churn.\n",
    "- oldest transaction date for each user: Some users may have very oldest transaction date but a short subscribe duration. \n",
    "- count of transactions for each user: may be the more transactions, the less likely to churn.\n",
    "\n",
    "I managed to create the following new features from user_logs.csv.\n",
    "\n",
    "- aggregate values such as total seconds played, total songs played for each user may effect the churn.\n",
    "- count of all logs for each user. This can tell number of activities for a user.\n",
    "- count of logs for the last 1 month for each user. If users don't have much activities in the last month (small log counts) they might have more chance to churn.\n",
    "\n",
    "Finally, I merge all above features to the members.csv. Informations in the members.csv such as user age and registration method may effect the churn. For all merging, I use left join to merge features so there are NAN values for records that cannot be merged. \n"
   ]
  },
  {
   "cell_type": "code",
   "execution_count": 1,
   "metadata": {
    "collapsed": false
   },
   "outputs": [],
   "source": [
    "## read train and test\n",
    "import pandas as pd\n",
    "datapath = 'D:/WSDM_Churn_Prediction/'\n",
    "\n",
    "train = pd.read_csv(datapath+'train.csv')\n",
    "train = pd.concat([train, pd.read_csv(datapath+'train_v2.csv')], axis=0, ignore_index=True)\n",
    "test = pd.read_csv(datapath+'sample_submission_v2.csv')"
   ]
  },
  {
   "cell_type": "code",
   "execution_count": 2,
   "metadata": {
    "collapsed": false
   },
   "outputs": [],
   "source": [
    "## create last transaction features\n",
    "transaction = pd.read_csv(datapath+'transactions.csv')\n",
    "transaction = pd.concat([transaction, pd.read_csv(datapath+'transactions_v2.csv')], axis=0, ignore_index=True)\n",
    "transaction = transaction.sort_values(['msno','transaction_date','membership_expire_date'],ascending=False)\n",
    "transaction = transaction.drop_duplicates('msno',keep='first')\n",
    "\n",
    "train = pd.merge(train, transaction, on='msno', how='left') \n",
    "test = pd.merge(test, transaction, on='msno', how='left') \n",
    "\n",
    "transaction = []"
   ]
  },
  {
   "cell_type": "code",
   "execution_count": 3,
   "metadata": {
    "collapsed": true
   },
   "outputs": [],
   "source": [
    "## subscribe_days feature\n",
    "subscribe_days = pd.read_csv(datapath+'transactions.csv',usecols=['msno','payment_plan_days','is_cancel'])\n",
    "subscribe_days = pd.concat([subscribe_days, pd.read_csv(datapath+'transactions_v2.csv',usecols=['msno','payment_plan_days','is_cancel'])], axis=0, ignore_index=True)\n",
    "subscribe_days = subscribe_days[subscribe_days.is_cancel == 0]\n",
    "subscribe_days = subscribe_days[['msno','payment_plan_days']]\n",
    "subscribe_days = subscribe_days.groupby(['msno']).sum().reset_index()\n",
    "subscribe_days.columns = ['msno','subscribe_days']\n",
    "\n",
    "train = pd.merge(train, subscribe_days, on='msno', how='left')\n",
    "test = pd.merge(test, subscribe_days, on='msno', how='left')\n",
    "\n",
    "subscribe_days = []"
   ]
  },
  {
   "cell_type": "code",
   "execution_count": 4,
   "metadata": {
    "collapsed": true
   },
   "outputs": [],
   "source": [
    "## oldest_transaction_date feature\n",
    "oldest_transaction_date = pd.read_csv(datapath+'transactions.csv',usecols=['msno','transaction_date'])\n",
    "oldest_transaction_date = pd.concat([oldest_transaction_date, pd.read_csv(datapath+'transactions_v2.csv',usecols=['msno','transaction_date'])], axis=0, ignore_index=True)\n",
    "\n",
    "oldest_transaction_date = oldest_transaction_date.sort_values(['msno','transaction_date'],ascending=True)\n",
    "oldest_transaction_date = oldest_transaction_date.drop_duplicates('msno',keep='first')\n",
    "oldest_transaction_date.columns = ['msno','oldest_transaction_date']\n",
    "\n",
    "train = pd.merge(train, oldest_transaction_date, on='msno', how='left')\n",
    "test = pd.merge(test, oldest_transaction_date, on='msno', how='left')\n",
    "\n",
    "oldest_transaction_date = []"
   ]
  },
  {
   "cell_type": "code",
   "execution_count": 5,
   "metadata": {
    "collapsed": true
   },
   "outputs": [],
   "source": [
    "## transaction count feature\n",
    "transaction_count = pd.read_csv(datapath+'transactions.csv',usecols=['msno','is_cancel'])\n",
    "transaction_count = pd.concat([transaction_count, pd.read_csv(datapath+'transactions_v2.csv',usecols=['msno','is_cancel'])], axis=0, ignore_index=True)\n",
    "transaction_count = transaction_count[transaction_count.is_cancel == 0]\n",
    "transaction_count = transaction_count.groupby(['msno']).count().reset_index()\n",
    "transaction_count.columns = ['msno','transaction_count']\n",
    "\n",
    "train = pd.merge(train, transaction_count, on='msno', how='left')\n",
    "test = pd.merge(test, transaction_count, on='msno', how='left')\n",
    "\n",
    "transaction_count = []"
   ]
  },
  {
   "cell_type": "code",
   "execution_count": 6,
   "metadata": {
    "collapsed": true
   },
   "outputs": [],
   "source": [
    "## aggregate sum of user_log \n",
    "user_log = pd.concat([chunk.groupby(['msno']).sum().reset_index() for chunk in pd.read_csv(datapath+'user_logs.csv', chunksize=50000000)])\n",
    "user_log = pd.concat([user_log, pd.read_csv(datapath+'user_logs_v2.csv')], axis=0, ignore_index=True)\n",
    "user_log = user_log.groupby(['msno']).sum().reset_index()\n",
    "user_log = user_log.drop('date', axis=1)\n",
    "\n",
    "train = pd.merge(train, user_log, on='msno', how='left')\n",
    "test = pd.merge(test, user_log, on='msno', how='left')\n",
    "\n",
    "user_log = []"
   ]
  },
  {
   "cell_type": "code",
   "execution_count": 7,
   "metadata": {
    "collapsed": false
   },
   "outputs": [],
   "source": [
    "## count all log \n",
    "log_count_all = pd.read_csv(datapath+'user_logs.csv', usecols=['msno'])\n",
    "log_count_all = pd.concat([log_count_all, pd.read_csv(datapath+'user_logs_v2.csv', usecols=['msno'])], axis=0, ignore_index=True)\n",
    "log_count_all = log_count_all.groupby(['msno']).size().reset_index(name='log_count_all')\n",
    "\n",
    "train = pd.merge(train, log_count_all, on='msno', how='left')\n",
    "test = pd.merge(test, log_count_all, on='msno', how='left')\n",
    "\n",
    "log_count_all = []"
   ]
  },
  {
   "cell_type": "code",
   "execution_count": 8,
   "metadata": {
    "collapsed": true
   },
   "outputs": [],
   "source": [
    "## count log for last 1 month\n",
    "log_count_1_month = pd.read_csv(datapath+'user_logs_v2.csv', usecols=['msno'])\n",
    "log_count_1_month = log_count_1_month.groupby(['msno']).size().reset_index(name='log_count_1_month')\n",
    "\n",
    "train = pd.merge(train, log_count_1_month, on='msno', how='left')\n",
    "test = pd.merge(test, log_count_1_month, on='msno', how='left')\n",
    "\n",
    "log_count_1_month = []"
   ]
  },
  {
   "cell_type": "code",
   "execution_count": 9,
   "metadata": {
    "collapsed": false
   },
   "outputs": [],
   "source": [
    "## merge with member data\n",
    "train = pd.merge(train, pd.read_csv(datapath+'members_v3.csv'), on='msno', how='left')\n",
    "test = pd.merge(test, pd.read_csv(datapath+'members_v3.csv'), on='msno', how='left')"
   ]
  },
  {
   "cell_type": "code",
   "execution_count": 10,
   "metadata": {
    "collapsed": false
   },
   "outputs": [],
   "source": [
    "## for speed, save merged dataset to file for use later \n",
    "train.to_csv(datapath+'train_saved.csv', index=False)\n",
    "test.to_csv(datapath+'test_saved.csv', index=False)\n",
    "\n",
    "%reset -f"
   ]
  },
  {
   "cell_type": "code",
   "execution_count": 11,
   "metadata": {
    "collapsed": true
   },
   "outputs": [],
   "source": [
    "## read saved merged dataset\n",
    "import warnings\n",
    "warnings.filterwarnings(\"ignore\")\n",
    "from pandas import DataFrame, read_csv\n",
    "import matplotlib.pyplot as plt\n",
    "import pandas as pd\n",
    "import numpy as np\n",
    "from IPython.display import display \n",
    "import datetime\n",
    "\n",
    "datapath = 'D:/WSDM_Churn_Prediction/'\n",
    "# Pretty display for notebooks\n",
    "%matplotlib inline\n",
    "\n",
    "train = pd.read_csv(datapath+'train_saved.csv')\n",
    "test = pd.read_csv(datapath+'test_saved.csv')"
   ]
  },
  {
   "cell_type": "markdown",
   "metadata": {},
   "source": [
    "### Training dataset information"
   ]
  },
  {
   "cell_type": "code",
   "execution_count": 12,
   "metadata": {
    "collapsed": false
   },
   "outputs": [
    {
     "name": "stdout",
     "output_type": "stream",
     "text": [
      "<class 'pandas.core.frame.DataFrame'>\n",
      "RangeIndex: 1963891 entries, 0 to 1963890\n",
      "Data columns (total 27 columns):\n",
      "msno                       object\n",
      "is_churn                   int64\n",
      "payment_method_id          int64\n",
      "payment_plan_days          int64\n",
      "plan_list_price            int64\n",
      "actual_amount_paid         int64\n",
      "is_auto_renew              int64\n",
      "transaction_date           int64\n",
      "membership_expire_date     int64\n",
      "is_cancel                  int64\n",
      "subscribe_days             float64\n",
      "oldest_transaction_date    int64\n",
      "transaction_count          float64\n",
      "num_25                     float64\n",
      "num_50                     float64\n",
      "num_75                     float64\n",
      "num_985                    float64\n",
      "num_100                    float64\n",
      "num_unq                    float64\n",
      "total_secs                 float64\n",
      "log_count_all              float64\n",
      "log_count_1_month          float64\n",
      "city                       float64\n",
      "bd                         float64\n",
      "gender                     object\n",
      "registered_via             float64\n",
      "registration_init_time     float64\n",
      "dtypes: float64(15), int64(10), object(2)\n",
      "memory usage: 404.5+ MB\n",
      "None\n"
     ]
    }
   ],
   "source": [
    "print(train.info())"
   ]
  },
  {
   "cell_type": "markdown",
   "metadata": {},
   "source": [
    "## Exploratory Visualization\n",
    "### Labels Count\n",
    "First, let see the counts of labels. You can see that the labels are very imbalanced. The count of 'is_churn'=1 (churn) is very less than 'is_churn'=0 (not churn). The prediction model may be biasd to the majority which is not churn."
   ]
  },
  {
   "cell_type": "code",
   "execution_count": 13,
   "metadata": {
    "collapsed": false,
    "scrolled": true
   },
   "outputs": [
    {
     "data": {
      "image/png": "[encoded data removed]",
      "text/plain": [
       "<matplotlib.figure.Figure at 0x2d1efd68>"
      ]
     },
     "metadata": {},
     "output_type": "display_data"
    }
   ],
   "source": [
    "import seaborn as sns\n",
    "plt.rcParams[\"figure.figsize\"] = [6,4]\n",
    "ax = sns.countplot(x=\"is_churn\", data=train)"
   ]
  },
  {
   "cell_type": "markdown",
   "metadata": {},
   "source": [
    "### Count of NAN Values\n",
    "There are NAN values for the merged train dataset. The gender column has NAN as majority value. The other columns have NAN values because I used left join and some users don't have associate data in users_log.csv and members.csv."
   ]
  },
  {
   "cell_type": "code",
   "execution_count": 14,
   "metadata": {
    "collapsed": false
   },
   "outputs": [
    {
     "data": {
      "image/png": "[encoded data removed]",
      "text/plain": [
       "<matplotlib.figure.Figure at 0xb5a4ef0>"
      ]
     },
     "metadata": {},
     "output_type": "display_data"
    }
   ],
   "source": [
    "ax = pd.DataFrame(train.isnull().sum(), columns=['count NAN values']).plot(kind='barh')"
   ]
  },
  {
   "cell_type": "markdown",
   "metadata": {},
   "source": [
    "### Count of transactions\n",
    "Vilolin plot for the count of transactions for each user shows that lower transaction counts have higher probabilities to churn (is_churn=1) while higher transaction counts have higher probabilities to not churn (is_churn=0). There are many outliers for the 'is_churn=1' (long tail)."
   ]
  },
  {
   "cell_type": "code",
   "execution_count": 15,
   "metadata": {
    "collapsed": false
   },
   "outputs": [
    {
     "data": {
      "image/png": "[encoded data removed]",
      "text/plain": [
       "<matplotlib.figure.Figure at 0x2d242e10>"
      ]
     },
     "metadata": {},
     "output_type": "display_data"
    }
   ],
   "source": [
    "ax = sns.violinplot(x=\"is_churn\", y=\"transaction_count\", data=train)"
   ]
  },
  {
   "cell_type": "markdown",
   "metadata": {},
   "source": [
    "### is_auto_renew, is_cancel\n",
    "\n",
    "Show count plot for 'is_auto_renew' and 'is_cancel'. The plots show that 'is_cancel=1' has high effect for user to churn while 'is_auto_renew=1' has very high effect for user to not churn."
   ]
  },
  {
   "cell_type": "code",
   "execution_count": 16,
   "metadata": {
    "collapsed": false
   },
   "outputs": [
    {
     "data": {
      "image/png": "[encoded data removed]",
      "text/plain": [
       "<matplotlib.figure.Figure at 0x1948c898>"
      ]
     },
     "metadata": {},
     "output_type": "display_data"
    }
   ],
   "source": [
    "ax = sns.countplot(x=\"is_cancel\", hue='is_churn',data=train)"
   ]
  },
  {
   "cell_type": "code",
   "execution_count": 17,
   "metadata": {
    "collapsed": false,
    "scrolled": true
   },
   "outputs": [
    {
     "data": {
      "image/png": "[encoded data removed]",
      "text/plain": [
       "<matplotlib.figure.Figure at 0xb5a4f28>"
      ]
     },
     "metadata": {},
     "output_type": "display_data"
    }
   ],
   "source": [
    "ax = sns.countplot(x=\"is_auto_renew\", hue='is_churn',data=train)"
   ]
  },
  {
   "cell_type": "markdown",
   "metadata": {},
   "source": [
    "### Count of last month logs\n",
    "The count of last month logs means how much activities for user in the last month. From the plot, 'is_churn=1' has higher occurrence at both the top and bottom of the plot while 'is_churn=0' has very high occurrence at the top of the plot."
   ]
  },
  {
   "cell_type": "code",
   "execution_count": 18,
   "metadata": {
    "collapsed": false
   },
   "outputs": [
    {
     "data": {
      "image/png": "[encoded data removed]",
      "text/plain": [
       "<matplotlib.figure.Figure at 0x1948cd68>"
      ]
     },
     "metadata": {},
     "output_type": "display_data"
    }
   ],
   "source": [
    "ax = sns.violinplot(x=\"is_churn\", y=\"log_count_1_month\", data=train)"
   ]
  },
  {
   "cell_type": "markdown",
   "metadata": {},
   "source": [
    "## Algorithms and Techniques\n",
    "\n",
    "First, before discussing about algorithms let's summarize the characteristics of the train data.\n",
    "\n",
    "- very imbalanced label (churn data is very small compared to not churn data).\n",
    "- have a lot of missing values. \n",
    "- many columns have outlier values.\n",
    "- all columns are numeric or make sense to be numeric (for example, transaction_date, membership_expire_date).\n",
    "\n",
    "From the characteristics of the dataset, I think ensemble method such as Random Forest and XGBoost are the most appropriate.\n",
    "\n",
    "- Random Forest uses bagging while XGBoost uses boosting to handle the imbalanced classification.  \n",
    "- They don't need to do preprocessing steps like scaling and standardize.\n",
    "- They can handle the missing values.\n",
    "- XGBoost may be better in term of accuracy but need more parameter tuning than Random Forest.\n",
    "- Random Forest may be better in term of less overfitting if there are outlier values.\n",
    "- Randome Forest can use both numeric and category data while XGBoost can use only numeric data.\n",
    "\n",
    "Random Forest is a bagging ensemble method working by training multiple decision tree models on different samples (with replacement) and different random features then average their predictions. \n",
    "\n",
    "$$  \\hat{y}=\\frac{1}{N}\\sum_{k=1}^N f_k(x_i) $$\n",
    "\n",
    "where $f_k$ is a random features decision tree classifier and $x_i$ is a random samples with replacement from training data and $N$ is number of decision tree classifier. It aim to decrease variance not bias. This [lecture](https://people.cs.pitt.edu/~milos/courses/cs2750-Spring04/lectures/class23.pdf) describes how it can reduce variance without changing bias.\n",
    "\n",
    "Assume we measure a random variable $x$ with a $N(\\mu,\\sigma)$ distribution. If random variable $x$ is measured $k$ times $(x_1,x_2,...x_k)$ and the value is estimated as: $\\frac{1}{k}(x_1+x_2+…+x_k)$.\n",
    "\n",
    "- Mean of the estimate is still $\\mu$\n",
    "- But, variance is smaller $\\frac{1}{k^2}(Var(x_1)+…Var(x_k)) = \\frac{k\\sigma^2}{k^2} = \\frac{\\sigma^2 }{k}$\n",
    "\n",
    "XGBoost is a boosting ensemble method working by starting with a very simple decision tree model (accuracy just slightly better than 50%) then incrementally training each new decision tree model instance to emphasize the training instances that previous model misclassified then use majority voting of these boosting models. Equation for [additive training](http://xgboost.readthedocs.io/en/latest/model.html#additive-training) (fix what we have learned, and add one new tree at a time) is \n",
    "\n",
    "$$\\hat{y}_i^{(t)} = \\sum_{k=1}^t f_k(x_i)= \\hat{y}_i^{(t-1)} + f_t(x_i)$$\n",
    "\n",
    "where $\\hat{y}_i^{(t)}$ is a prediction value at step $t$ and $f_t$ is a new decision tree at step $t$ and $x_i$ is samples from the distribution that weighted the misclassified instances from the previous step. XGBoost aim to decrease bias, not variance.\n"
   ]
  },
  {
   "cell_type": "markdown",
   "metadata": {},
   "source": [
    "## Benchmark\n",
    "I will use two simple benchmarks as follows\n",
    "\n",
    "- use Dicision Tree as simple model benchmark to be compared with the Random Forest and XGBoost.\n",
    "- use a simple rule, if a user has no activities in the last 30 days then predict the user as churn. "
   ]
  },
  {
   "cell_type": "markdown",
   "metadata": {},
   "source": [
    "# Methodology\n",
    "\n",
    "## Data Preprocessing\n",
    "\n",
    "I will do the following data preprocessing.\n",
    "\n",
    "- convert column gender from category to be numeric (1=male, 2=female) because XGBoost need all features to be numeric.\n",
    "- drop msno column which is user id (does not need user id when training model). \n",
    "- Most of NAN values occured because using left join so I think it make sense to fill NAN with 0. \n",
    "\n",
    "XGBoost and Random Forest don't need other feature transformations such as scaling or standardizing."
   ]
  },
  {
   "cell_type": "code",
   "execution_count": 19,
   "metadata": {
    "collapsed": true
   },
   "outputs": [],
   "source": [
    "# data preprocessing\n",
    "gender = {'male':1, 'female':2}\n",
    "train['gender'] = train['gender'].map(gender)\n",
    "test['gender'] = test['gender'].map(gender)\n",
    "\n",
    "train = train.drop(['msno'],axis=1)\n",
    "\n",
    "train = train.fillna(0)\n",
    "test = test.fillna(0)"
   ]
  },
  {
   "cell_type": "markdown",
   "metadata": {},
   "source": [
    "## Implementation\n",
    "\n",
    "I will do following for tuning the initial models.\n",
    "\n",
    "- split 10% of train data to be the test data. This will be used for comparing models. \n",
    "- train and compare two models, Random Forest and XGBoost.\n",
    "- tune model parameters using GridSearchCV (using small samples and small n_estimates for training speed).\n",
    "\n",
    "### XGBoost\n",
    "\n",
    "I will fixing the following parameters for GridSearchCV.\n",
    "\n",
    "- n_estimators = 50 (using large n_estimators will take very long time to run)\n",
    "- using 100000 records of the train data. (about 5% of train data)\n",
    "- cv = 4 (cross validate)\n",
    "- scoring = 'log_loss' (since Kaggle use log_loss as evaluation metric)\n",
    "- objective='binary:logistic' (binary classification)\n",
    "\n",
    "I will tune the following parameters using GridSearchCV.\n",
    "\n",
    "- \"max_depth\": Maximum tree depth for base learners.\n",
    "- \"min_child_weight\": Minimum sum of instance weight(hessian) needed in a child.\n",
    "- \"subsample\": Subsample ratio of the training instance.\n",
    "- \"colsample_bytree\": Subsample ratio of columns when constructing each tree.\n",
    "\n",
    "the parameters range to tune are as follows.\n",
    "\n",
    "- \"max_depth\": [4,5,6,7]\n",
    "- \"min_child_weight\" :[1,2,3]\n",
    "- \"subsample\": [0.6,1.0]\n",
    "- \"colsample_bytree\": (0.6,1.0)}\n",
    "\n",
    "\n",
    "\n"
   ]
  },
  {
   "cell_type": "code",
   "execution_count": 20,
   "metadata": {
    "collapsed": true
   },
   "outputs": [],
   "source": [
    "# split test data\n",
    "from sklearn.model_selection import train_test_split \n",
    "X_train, X_test, y_train, y_test = train_test_split(train.drop(['is_churn'],axis=1), train['is_churn'], test_size = 0.1, random_state = 0)"
   ]
  },
  {
   "cell_type": "code",
   "execution_count": 21,
   "metadata": {
    "collapsed": false
   },
   "outputs": [],
   "source": [
    "# XGBoost GridSearchCV tuning\n",
    "from sklearn.model_selection import GridSearchCV\n",
    "#import xgboost as xgb\n",
    "from xgboost.sklearn import XGBClassifier\n",
    "\n",
    "parameters = {\"max_depth\": [4,5,6,7]\n",
    "            ,\"min_child_weight\" :[1,2,3]            \n",
    "            ,\"subsample\": [0.6,1.0]\n",
    "            ,\"colsample_bytree\": (0.6,1.0)}\n",
    "\n",
    "xgb_grid_obj = GridSearchCV(XGBClassifier(objective='binary:logistic', n_estimators=50, seed=99) \n",
    "                            ,parameters, scoring='log_loss', n_jobs = 4, cv = 4)\n",
    "xgb_grid_fit = xgb_grid_obj.fit(X_train[1:100000],y_train[1:100000])"
   ]
  },
  {
   "cell_type": "markdown",
   "metadata": {},
   "source": [
    "The best parameters from GridSearchCV are"
   ]
  },
  {
   "cell_type": "code",
   "execution_count": 22,
   "metadata": {
    "collapsed": false
   },
   "outputs": [
    {
     "data": {
      "text/plain": [
       "{'colsample_bytree': 1.0,\n",
       " 'max_depth': 6,\n",
       " 'min_child_weight': 1,\n",
       " 'subsample': 0.6}"
      ]
     },
     "execution_count": 22,
     "metadata": {},
     "output_type": "execute_result"
    }
   ],
   "source": [
    "xgb_best = xgb_grid_obj.best_estimator_\n",
    "xgb_grid_obj.best_params_"
   ]
  },
  {
   "cell_type": "markdown",
   "metadata": {},
   "source": [
    "The first tuning scores on the train data are"
   ]
  },
  {
   "cell_type": "code",
   "execution_count": 23,
   "metadata": {
    "collapsed": false
   },
   "outputs": [
    {
     "name": "stdout",
     "output_type": "stream",
     "text": [
      "log_loss = 0.0744267875661, recall = 0.757172395968, f1_score = 0.809142383649\n"
     ]
    }
   ],
   "source": [
    "from sklearn.metrics import recall_score,f1_score,log_loss\n",
    "xgb_first_train_score1 = log_loss(y_train[1:100000], xgb_best.predict_proba(X_train[1:100000]))\n",
    "xgb_first_train_score2 = recall_score(y_train[1:100000], xgb_best.predict(X_train[1:100000]))\n",
    "xgb_first_train_score3 = f1_score(y_train[1:100000], xgb_best.predict(X_train[1:100000]))\n",
    "\n",
    "print(\"log_loss = {}, recall = {}, f1_score = {}\".format(xgb_first_train_score1, xgb_first_train_score2, xgb_first_train_score3))"
   ]
  },
  {
   "cell_type": "markdown",
   "metadata": {},
   "source": [
    "The first tuning scores on the test data are"
   ]
  },
  {
   "cell_type": "code",
   "execution_count": 24,
   "metadata": {
    "collapsed": false,
    "scrolled": true
   },
   "outputs": [
    {
     "name": "stdout",
     "output_type": "stream",
     "text": [
      "log_loss = 0.0793903277045, recall = 0.71131547381, f1_score = 0.766039902397\n"
     ]
    }
   ],
   "source": [
    "xgb_first_test_score1 = log_loss(y_test, xgb_best.predict_proba(X_test))\n",
    "xgb_first_test_score2 = recall_score(y_test, xgb_best.predict(X_test))\n",
    "xgb_first_test_score3 = f1_score(y_test, xgb_best.predict(X_test))\n",
    "\n",
    "print(\"log_loss = {}, recall = {}, f1_score = {}\".format(xgb_first_test_score1, xgb_first_test_score2, xgb_first_test_score3))"
   ]
  },
  {
   "cell_type": "markdown",
   "metadata": {},
   "source": [
    "### Random Forest\n",
    "\n",
    "I will fixing the following parameters for GridSearchCV.\n",
    "\n",
    "- n_estimators = 50 (using large n_estimators will take very long time to run)\n",
    "- using 100000 records of the train data (about 5% of train data).\n",
    "- cv = 4 (cross validate)\n",
    "- scoring = 'log_loss' (since Kaggle use log_loss as evaluation metric)\n",
    "\n",
    "I will tune the following parameters using GridSearchCV.\n",
    "\n",
    "- max_features: The number of features to consider when looking for the best split.\n",
    "- max_depth: The maximum depth of the tree.\n",
    "- min_samples_leaf: The minimum number of samples required to be at a leaf node.\n",
    "- min_samples_split: The minimum number of samples required to split an internal node.\n",
    "\n",
    "\n",
    "the parameters range to tune are as follows.\n",
    "\n",
    "- \"max_depth\": [4,5,6]\n",
    "- \"min_samples_split\" :[2,3,4]\n",
    "- \"min_samples_leaf\": [1,3,5]\n",
    "- \"max_features\": (4,5,6)\n",
    "\n",
    "I intent to tune Random Forest to less overfit than XGBoost to compare results when submiting to Kaggle."
   ]
  },
  {
   "cell_type": "code",
   "execution_count": 25,
   "metadata": {
    "collapsed": false
   },
   "outputs": [],
   "source": [
    "# grid search best parameters\n",
    "from sklearn.ensemble import RandomForestClassifier\n",
    "\n",
    "parameters = {\"max_depth\": [4,5,6]\n",
    "            ,\"min_samples_split\" :[2,3,4]            \n",
    "            ,\"min_samples_leaf\": [1,3,5]\n",
    "            ,\"max_features\": (4,5,6)            \n",
    "             }\n",
    "\n",
    "rf_grid_obj = GridSearchCV(RandomForestClassifier(random_state=0, n_estimators=50) \n",
    "                           ,parameters, scoring='log_loss', n_jobs = 4, cv = 4)\n",
    "rf_grid_fit = rf_grid_obj.fit(X_train[1:100000],y_train[1:100000])"
   ]
  },
  {
   "cell_type": "markdown",
   "metadata": {},
   "source": [
    "The best parameters from GridSearchCV are"
   ]
  },
  {
   "cell_type": "code",
   "execution_count": 26,
   "metadata": {
    "collapsed": false
   },
   "outputs": [
    {
     "data": {
      "text/plain": [
       "{'max_depth': 6,\n",
       " 'max_features': 6,\n",
       " 'min_samples_leaf': 1,\n",
       " 'min_samples_split': 4}"
      ]
     },
     "execution_count": 26,
     "metadata": {},
     "output_type": "execute_result"
    }
   ],
   "source": [
    "rf_best = rf_grid_obj.best_estimator_\n",
    "rf_grid_obj.best_params_"
   ]
  },
  {
   "cell_type": "markdown",
   "metadata": {},
   "source": [
    "The first scores on the train data are"
   ]
  },
  {
   "cell_type": "code",
   "execution_count": 27,
   "metadata": {
    "collapsed": false
   },
   "outputs": [
    {
     "name": "stdout",
     "output_type": "stream",
     "text": [
      "log_loss = 0.0867531737872, recall = 0.719048849832, f1_score = 0.777692361451\n"
     ]
    }
   ],
   "source": [
    "rf_first_train_score1 = log_loss(y_train[1:100000], rf_best.predict_proba(X_train[1:100000]))\n",
    "rf_first_train_score2 = recall_score(y_train[1:100000], rf_best.predict(X_train[1:100000]))\n",
    "rf_first_train_score3 = f1_score(y_train[1:100000], rf_best.predict(X_train[1:100000]))\n",
    "\n",
    "print(\"log_loss = {}, recall = {}, f1_score = {}\".format(rf_first_train_score1, rf_first_train_score2, rf_first_train_score3))"
   ]
  },
  {
   "cell_type": "markdown",
   "metadata": {},
   "source": [
    "The first scores on the test data are"
   ]
  },
  {
   "cell_type": "code",
   "execution_count": 28,
   "metadata": {
    "collapsed": false
   },
   "outputs": [
    {
     "name": "stdout",
     "output_type": "stream",
     "text": [
      "log_loss = 0.0879615918596, recall = 0.703851792616, f1_score = 0.762709416522\n"
     ]
    }
   ],
   "source": [
    "rf_first_test_score1 = log_loss(y_test, rf_best.predict_proba(X_test))\n",
    "rf_first_test_score2 = recall_score(y_test, rf_best.predict(X_test))\n",
    "rf_first_test_score3 = f1_score(y_test, rf_best.predict(X_test))\n",
    "\n",
    "print(\"log_loss = {}, recall = {}, f1_score = {}\".format(rf_first_test_score1, rf_first_test_score2, rf_first_test_score3))"
   ]
  },
  {
   "cell_type": "markdown",
   "metadata": {},
   "source": [
    "Complications during the implementation are\n",
    "\n",
    "- GridSearchCV takes very long time to brute force searching the best parameters. So I need to use just small samples of the training data. The parameter 'n_estimator' also has a huge effect to the running time of GridSearchCV. \n",
    "- There are so many parameters for the algorithms but I can not fine tune them because adding one more choice of the parameter can add multiplication in the time consuming so it's hard to decide which parameters and how much of its range need to be tuned. May be I should consider RandomSearchCV instead of GridSearchCV for the next time.\n",
    "- For tuning Random Forest, increasing values for 'max_depth' and 'max_features' will get better score on the test data but I've found that it will overfit when submiting results to Kaggle."
   ]
  },
  {
   "cell_type": "markdown",
   "metadata": {},
   "source": [
    "## Refinement\n",
    "\n",
    "For final tuning, I will use parameters from the previous GridSearchCV and do following to tune the final scores.\n",
    "\n",
    "- increase n_estimates to be 500 for both XGBoost and Random Forest.\n",
    "- train on the full train data. \n",
    "- use the same test data as previous phase.\n",
    "\n",
    "### XGBoost\n",
    "The final scores on the test data are"
   ]
  },
  {
   "cell_type": "code",
   "execution_count": 29,
   "metadata": {
    "collapsed": false
   },
   "outputs": [
    {
     "name": "stdout",
     "output_type": "stream",
     "text": [
      "log_loss = 0.0747653657696, recall = 0.726042916167, f1_score = 0.770590939633\n"
     ]
    }
   ],
   "source": [
    "xgb_best.set_params(n_estimators=500,nthread=4)\n",
    "xgb_best.fit(X_train,y_train)\n",
    "\n",
    "xgb_final_test_score1 = log_loss(y_test, xgb_best.predict_proba(X_test))\n",
    "xgb_final_test_score2 = recall_score(y_test, xgb_best.predict(X_test))\n",
    "xgb_final_test_score3 = f1_score(y_test, xgb_best.predict(X_test))\n",
    "\n",
    "print(\"log_loss = {}, recall = {}, f1_score = {}\".format(xgb_final_test_score1, xgb_final_test_score2, xgb_final_test_score3))"
   ]
  },
  {
   "cell_type": "markdown",
   "metadata": {},
   "source": [
    "### Random Forest\n",
    "\n",
    "The final scores on the test data are"
   ]
  },
  {
   "cell_type": "code",
   "execution_count": 30,
   "metadata": {
    "collapsed": false
   },
   "outputs": [
    {
     "name": "stdout",
     "output_type": "stream",
     "text": [
      "log_loss = 0.0878255092431, recall = 0.711781953885, f1_score = 0.764785908635\n"
     ]
    }
   ],
   "source": [
    "rf_best.set_params(n_estimators=500,n_jobs=4)\n",
    "rf_best.fit(X_train,y_train)\n",
    "\n",
    "rf_final_test_score1 = log_loss(y_test, rf_best.predict_proba(X_test))\n",
    "rf_final_test_score2 = recall_score(y_test, rf_best.predict(X_test))\n",
    "rf_final_test_score3 = f1_score(y_test, rf_best.predict(X_test))\n",
    "\n",
    "print(\"log_loss = {}, recall = {}, f1_score = {}\".format(rf_final_test_score1, rf_final_test_score2, rf_final_test_score3))"
   ]
  },
  {
   "cell_type": "markdown",
   "metadata": {},
   "source": [
    "### Scores Summary\n",
    "\n",
    "Compare scores for intermediate tuning on both train and test data and final tuning on test data. \n",
    "\n",
    "for XGBoost"
   ]
  },
  {
   "cell_type": "code",
   "execution_count": 31,
   "metadata": {
    "collapsed": true
   },
   "outputs": [],
   "source": [
    "# convert df to markdown so that table can display when export to pdf\n",
    "def pandas_df_to_markdown_table(df):\n",
    "    from IPython.display import Markdown\n",
    "    fmt = ['---' for i in range(len(df.columns))]\n",
    "    df_fmt = pd.DataFrame([fmt], columns=df.columns)\n",
    "    df_formatted = pd.concat([df_fmt, df])\n",
    "    display(Markdown(df_formatted.to_csv(sep=\"|\", index=False)))"
   ]
  },
  {
   "cell_type": "code",
   "execution_count": 32,
   "metadata": {
    "collapsed": false
   },
   "outputs": [
    {
     "data": {
      "text/markdown": [
       "metrics|first_score_on_train_data|first_score_on_test_data|final_score_on_test_data\n",
       "---|---|---|---\n",
       "log_loss|0.07442678756606426|0.07939032770447087|0.07476536576963773\n",
       "recall|0.7571723959679504|0.7113154738104758|0.7260429161668666\n",
       "f1_score|0.8091423836486672|0.7660399023970144|0.770590939632917\n"
      ],
      "text/plain": [
       "<IPython.core.display.Markdown object>"
      ]
     },
     "metadata": {},
     "output_type": "display_data"
    }
   ],
   "source": [
    "xgb_scores = pd.DataFrame(data = {'metrics': ['log_loss','recall','f1_score']})\n",
    "xgb_scores['first_score_on_train_data'] = [xgb_first_train_score1,xgb_first_train_score2,xgb_first_train_score3]\n",
    "xgb_scores['first_score_on_test_data'] = [xgb_first_test_score1,xgb_first_test_score2,xgb_first_test_score3]\n",
    "xgb_scores['final_score_on_test_data'] = [xgb_final_test_score1,xgb_final_test_score2,xgb_final_test_score3]\n",
    "\n",
    "pandas_df_to_markdown_table(xgb_scores)"
   ]
  },
  {
   "cell_type": "markdown",
   "metadata": {},
   "source": [
    "for Random Forest\n"
   ]
  },
  {
   "cell_type": "code",
   "execution_count": 33,
   "metadata": {
    "collapsed": false
   },
   "outputs": [
    {
     "data": {
      "text/markdown": [
       "metrics|first_score_on_train_data|first_score_on_test_data|final_score_on_test_data\n",
       "---|---|---|---\n",
       "log_loss|0.08675317378719496|0.08796159185956462|0.08782550924311255\n",
       "recall|0.7190488498319979|0.7038517926162868|0.7117819538851127\n",
       "f1_score|0.7776923614508351|0.7627094165222416|0.7647859086352571\n"
      ],
      "text/plain": [
       "<IPython.core.display.Markdown object>"
      ]
     },
     "metadata": {},
     "output_type": "display_data"
    }
   ],
   "source": [
    "rf_scores = pd.DataFrame(data = {'metrics': ['log_loss','recall','f1_score']})\n",
    "rf_scores['first_score_on_train_data'] = [rf_first_train_score1,rf_first_train_score2,rf_first_train_score3]\n",
    "rf_scores['first_score_on_test_data'] = [rf_first_test_score1,rf_first_test_score2,rf_first_test_score3]\n",
    "rf_scores['final_score_on_test_data'] = [rf_final_test_score1,rf_final_test_score2,rf_final_test_score3]\n",
    "\n",
    "pandas_df_to_markdown_table(rf_scores)"
   ]
  },
  {
   "cell_type": "markdown",
   "metadata": {},
   "source": [
    "For both XGBoost and Random Forest, the scores on both train and test data are very close and seem not overfit. XGBoost final results on the test data have better scores than Random Forest."
   ]
  },
  {
   "cell_type": "code",
   "execution_count": 34,
   "metadata": {
    "collapsed": true
   },
   "outputs": [],
   "source": [
    "## here are code for submitting results to Kaggle\n",
    "\n",
    "# XGBoost\n",
    "xgb_best.set_params(n_estimators=500,nthread=4)\n",
    "xgb_best.fit(train.drop(['is_churn'],axis=1),train['is_churn'])\n",
    "pred = xgb_best.predict_proba(test.drop(['msno','is_churn'],axis=1))\n",
    "test['is_churn'] = [p[1] for p in pred]\n",
    "test[['msno','is_churn']].to_csv('xgb.csv.gz', index=False, compression='gzip')\n",
    "\n",
    "# Random Forest\n",
    "rf_best.set_params(n_estimators=500,n_jobs=4)\n",
    "rf_best.fit(train.drop(['is_churn'],axis=1),train['is_churn'])\n",
    "pred = rf_best.predict_proba(test.drop(['msno','is_churn'],axis=1))\n",
    "test['is_churn'] = [p[1] for p in pred]\n",
    "test[['msno','is_churn']].to_csv('rf.csv.gz', index=False, compression='gzip')"
   ]
  },
  {
   "cell_type": "markdown",
   "metadata": {},
   "source": [
    "# Results\n",
    "\n",
    "\n",
    "## Model Evaluation and Validation\n",
    "\n",
    "I submitted results from both XGBoost and Random Forest to Kaggle. The best result is from Random Forest model which I got 55th place out of 434 (top 13%) on the Kaggle public leaderboard (As of DEC 7, 2017). \n",
    "\n",
    "![](lb.jpg)"
   ]
  },
  {
   "cell_type": "code",
   "execution_count": 35,
   "metadata": {
    "collapsed": false
   },
   "outputs": [
    {
     "data": {
      "text/markdown": [
       "Model|log_loss_on_Kaggle_public_leaderboard|log_loss_on_the_test_data\n",
       "---|---|---\n",
       "XGBoost|0.14421|0.07476536576963773\n",
       "Random Forest|0.12714|0.08782550924311255\n"
      ],
      "text/plain": [
       "<IPython.core.display.Markdown object>"
      ]
     },
     "metadata": {},
     "output_type": "display_data"
    }
   ],
   "source": [
    "results = pd.DataFrame(data={'Model':['XGBoost','Random Forest']\n",
    "                             ,'log_loss_on_the_test_data':[xgb_final_test_score1,rf_final_test_score1]\n",
    "                             ,'log_loss_on_Kaggle_public_leaderboard':[0.14421,0.12714]})\n",
    "pandas_df_to_markdown_table(results)"
   ]
  },
  {
   "cell_type": "markdown",
   "metadata": {},
   "source": [
    "It's surprised me that Random Forest got higher score on Kaggle Public Leaderboard although XGBoost got higher score on the test data. It seems that both models are overfit to the real data but Random Forest is less overfit than XGBoost. I think the reason that Random Forest is less overfit is because both model have the parameter 'maxdepth' equally which is 6 so Random Forest which is bagging seem to less overfit than XGBoost which is boosting.\n",
    "\n",
    "So my final chosen model is Random Forest because in real life many of user churn may don't have exact pattern so the less overfit model should be better."
   ]
  },
  {
   "cell_type": "markdown",
   "metadata": {},
   "source": [
    "## Justification\n",
    "\n",
    "I have the following benchmarks.\n",
    "\n",
    "- benchmark1: use a simple decision tree.\n",
    "- benchmark2: use a simple rule if user does not have usage log in the last month then predict user to churn.\n",
    "\n",
    "Here are results of bechmarks to compare with the final chosen model."
   ]
  },
  {
   "cell_type": "code",
   "execution_count": 36,
   "metadata": {
    "collapsed": false
   },
   "outputs": [],
   "source": [
    "# benchmark1 Decision Tree \n",
    "from sklearn.tree import DecisionTreeClassifier\n",
    "from sklearn.model_selection import cross_val_score\n",
    "\n",
    "dt = DecisionTreeClassifier(random_state=0)\n",
    "dt.fit(X_train,y_train)\n",
    "\n",
    "benchmark1_score1 = log_loss(y_test, dt.predict_proba(X_test))\n",
    "benchmark1_score2 = recall_score(y_test, dt.predict(X_test))\n",
    "benchmark1_score3 = f1_score(y_test, dt.predict(X_test))"
   ]
  },
  {
   "cell_type": "code",
   "execution_count": 37,
   "metadata": {
    "collapsed": false
   },
   "outputs": [],
   "source": [
    "# benchmark2 simple rule if user does not have usage log for the last month then predict user to churn\n",
    "pred = [1 if i==0 else 0 for i in X_test['log_count_1_month']]\n",
    "benchmark2_score1 = log_loss(y_test, pred)\n",
    "benchmark2_score2 = recall_score(y_test, pred)\n",
    "benchmark2_score3 = f1_score(y_test, pred)"
   ]
  },
  {
   "cell_type": "code",
   "execution_count": 38,
   "metadata": {
    "collapsed": false
   },
   "outputs": [
    {
     "data": {
      "text/markdown": [
       "model|log_loss|recall|f1_score\n",
       "---|---|---|---\n",
       "benchmark1|1.72517900298467|0.6258829801412769|0.6398909896099473\n",
       "benchmark2|8.747856170892863|0.413567906170865|0.1997039516025228\n",
       "Random Forest|0.08782550924311255|0.7117819538851127|0.7647859086352571\n"
      ],
      "text/plain": [
       "<IPython.core.display.Markdown object>"
      ]
     },
     "metadata": {},
     "output_type": "display_data"
    }
   ],
   "source": [
    "results = pd.DataFrame({'model':['benchmark1','benchmark2','Random Forest']})\n",
    "results['log_loss'] = [benchmark1_score1,benchmark2_score1,rf_final_test_score1]\n",
    "results['recall'] = [benchmark1_score2,benchmark2_score2,rf_final_test_score2]\n",
    "results['f1_score'] =[benchmark1_score3,benchmark2_score3,rf_final_test_score3]\n",
    "pandas_df_to_markdown_table(results)"
   ]
  },
  {
   "cell_type": "markdown",
   "metadata": {},
   "source": [
    "- benchmark1 and benchmark2 cannot predict in probabilities so their log_loss are very high.\n",
    "- benchmark1 has both recall and f1_core significantly lower than Random Forest. \n",
    "- benchmark2 has both recall and f1_core significantly lower than Random Forest. Especially the very low f1_score compared to recall tells that it has very low precision (high False Positive).\n",
    "- Random Forest has high enough scores on both recall and f1_score which means it can effectively identify around 71 out of 100 for the churn users while still maintain acceptable false alarm."
   ]
  },
  {
   "cell_type": "markdown",
   "metadata": {},
   "source": [
    "# Conclusion\n",
    "\n",
    "## Free-Form Visualization\n"
   ]
  },
  {
   "cell_type": "code",
   "execution_count": 39,
   "metadata": {
    "collapsed": false
   },
   "outputs": [
    {
     "data": {
      "image/png": "[encoded data removed]",
      "text/plain": [
       "<matplotlib.figure.Figure at 0x2838f2e8>"
      ]
     },
     "metadata": {},
     "output_type": "display_data"
    }
   ],
   "source": [
    "feats = {} \n",
    "for feature, importance in zip(X_train.columns, rf_best.feature_importances_):\n",
    "    feats[feature] = importance #add the name/value pair \n",
    "\n",
    "importances = pd.DataFrame.from_dict(feats, orient='index').rename(columns={0: 'Gini-importance'})\n",
    "ax = importances.sort_values(by='Gini-importance').plot(kind='barh')"
   ]
  },
  {
   "cell_type": "markdown",
   "metadata": {},
   "source": [
    "Feature importances plot shows that 'membership_expire_date', 'transaction_date' and 'is_cancel' are the top 3 most important features to predict customer churn. Most of important features are from transactions.csv. Features from user_log.csv and members.csv are almost no importance."
   ]
  },
  {
   "cell_type": "markdown",
   "metadata": {},
   "source": [
    "## Reflection\n",
    "\n",
    "This project is an imbalanced binary classification problem. Kaggle provides so many large datasets and so many features and I need to merge these datasets together to derive some new useful features. This feature engineering step is very time consuming for me and it consumed almost all of 32GB of my RAM. After that I need to do data exploration and visualization to understand more on the data. In the preprocessing step, I need to clean the NAN values by just simply filling them with zero and drop some columns that not meaningful to train model. \n",
    "\n",
    "I choose ensemble tree based model Random Forest and XGBoost as they are effective technique to [handle imbalanced classification](https://www.analyticsvidhya.com/blog/2017/03/imbalanced-classification-problem/). For evaluation metrics, Kaggle uses logloss for this problem and I also use f1 along with recall as they can explain to business in term of how many user churn can be identified and how many false alarms. \n",
    "\n",
    "For the train phase, I trained two model XGBoost and Random Forest. I use GridSearchCV to fine tune the best parameters. This phase is also a very time comsuming since GridSearchCV is a brute force method and the training data are quite large. The scores on the train and test data are quite similar and seem not overfit. XGBoost is better. It got around 0.07-0.08 for the logloss on the test data while Random Forest got around 0.08-0.09. These scores are very much far better than the simple rule based benchmark (if user has no activity longer than 30 days then predict as churn) and non ensemble method benchmark like decision tree.\n",
    "\n",
    "I submitted results from both XGBoost and Random Forest to Kaggle and it's surprised me that Random Forest got very much better scores on the Kaggle Public Learderboard although XGBoost score is better on my test data. I got around 55th place out of 434 (top 13%) for the Random Forest as the day I submitted. Random Forest logloss score on the Kaggle Public Learderboard is around 0.12 while XGBoost is around 0.14. Both models seem to be overfit when compare to the score on my test data. \n",
    "\n",
    "\n",
    "## Improvement\n",
    "\n",
    "To improve the model I will focus on reducing overfit.\n",
    "\n",
    "- Explore and filter out more outlier values.\n",
    "- Remove unnecessary features based on the feature importances plot.\n",
    "- Tuning parameters that effect the overfit such as reducing maxdepth.\n",
    "- Try early stoping technique in XGBoost which can help preventing overfit.\n",
    "- Train with more data if possible to make model more generalize.\n",
    "- Try to create new feature that does not depend on date value and not strong correlate with the existing features.\n",
    "- Ensemble result of both XGBoost and Random Forest.\n"
   ]
  }
 ],
 "metadata": {
  "kernelspec": {
   "display_name": "Python 2",
   "language": "python",
   "name": "python2"
  },
  "language_info": {
   "codemirror_mode": {
    "name": "ipython",
    "version": 2
   },
   "file_extension": ".py",
   "mimetype": "text/x-python",
   "name": "python",
   "nbconvert_exporter": "python",
   "pygments_lexer": "ipython2",
   "version": "2.7.13"
  }
 },
 "nbformat": 4,
 "nbformat_minor": 2
}
